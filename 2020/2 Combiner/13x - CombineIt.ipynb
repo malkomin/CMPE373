{
 "cells": [
  {
   "cell_type": "markdown",
   "metadata": {},
   "source": [
    "# Weighted Majority Rule for Regression \n",
    "Inspired from(UBMK)\n",
    "> A. Dogan and D. Birant, \"A Weighted Majority Voting Ensemble Approach for Classification,\" 2019 4th International Conference on Computer Science and Engineering (UBMK), Samsun, Turkey, 2019, pp. 1-6.\n",
    "doi: 10.1109/UBMK.2019.8907028\n",
    "\n",
    "Selamlar, \n",
    "\n",
    "Weighted Majority Rule for Regression Kodu ektedir.\n",
    "1.\tEn iyi regressor’ın agırlıgı, diğerlerinin toplam hatası oranında arttırılıyor. En iyi regressor’ın ağırlık değişimi yeni gelene verilen onem ağırlığı alpha ve su ana kadar kullanılan veri sayısına bağlı bicimde oluyor.    Diğer regressor’ların ağırlığı, hatayadaki payları oranında azalıyor.\n",
    "2.\tLınear regressıon\n",
    "3.\tSGD ile incremental learnıng ornegı goruluyor.\n",
    "\n",
    "En guvenlı yaklasım sondaki SGD ile partial fit. En yeni yaklasım ilki, bize ait metod. Fakat yapay ogrenmede bir devrim değil ☺\n",
    "\n"
   ]
  },
  {
   "cell_type": "code",
   "execution_count": 1,
   "metadata": {
    "collapsed": true
   },
   "outputs": [],
   "source": [
    "import pandas as pd\n",
    "import numpy as np\n",
    "import matplotlib.pyplot as plt\n",
    "import seaborn as sns\n",
    "sns.set()\n",
    "\n",
    "np.random.seed(1)\n",
    "from sklearn.linear_model import LinearRegression\n",
    "from sklearn.metrics import mean_squared_error, r2_score\n",
    "from sklearn.model_selection import train_test_split"
   ]
  },
  {
   "cell_type": "markdown",
   "metadata": {},
   "source": [
    "## Toy data"
   ]
  },
  {
   "cell_type": "code",
   "execution_count": 2,
   "metadata": {},
   "outputs": [
    {
     "data": {
      "text/html": [
       "<div>\n",
       "<style scoped>\n",
       "    .dataframe tbody tr th:only-of-type {\n",
       "        vertical-align: middle;\n",
       "    }\n",
       "\n",
       "    .dataframe tbody tr th {\n",
       "        vertical-align: top;\n",
       "    }\n",
       "\n",
       "    .dataframe thead th {\n",
       "        text-align: right;\n",
       "    }\n",
       "</style>\n",
       "<table border=\"1\" class=\"dataframe\">\n",
       "  <thead>\n",
       "    <tr style=\"text-align: right;\">\n",
       "      <th></th>\n",
       "      <th>regressor1</th>\n",
       "      <th>regressor2</th>\n",
       "      <th>regressor3</th>\n",
       "      <th>regressor4</th>\n",
       "      <th>target</th>\n",
       "    </tr>\n",
       "  </thead>\n",
       "  <tbody>\n",
       "    <tr>\n",
       "      <th>0</th>\n",
       "      <td>37</td>\n",
       "      <td>40</td>\n",
       "      <td>35</td>\n",
       "      <td>12</td>\n",
       "      <td>4.0</td>\n",
       "    </tr>\n",
       "    <tr>\n",
       "      <th>1</th>\n",
       "      <td>12</td>\n",
       "      <td>78</td>\n",
       "      <td>41</td>\n",
       "      <td>17</td>\n",
       "      <td>29.0</td>\n",
       "    </tr>\n",
       "    <tr>\n",
       "      <th>2</th>\n",
       "      <td>72</td>\n",
       "      <td>45</td>\n",
       "      <td>81</td>\n",
       "      <td>71</td>\n",
       "      <td>77.0</td>\n",
       "    </tr>\n",
       "    <tr>\n",
       "      <th>3</th>\n",
       "      <td>9</td>\n",
       "      <td>87</td>\n",
       "      <td>2</td>\n",
       "      <td>91</td>\n",
       "      <td>33.0</td>\n",
       "    </tr>\n",
       "    <tr>\n",
       "      <th>4</th>\n",
       "      <td>75</td>\n",
       "      <td>16</td>\n",
       "      <td>85</td>\n",
       "      <td>7</td>\n",
       "      <td>57.0</td>\n",
       "    </tr>\n",
       "  </tbody>\n",
       "</table>\n",
       "</div>"
      ],
      "text/plain": [
       "   regressor1  regressor2  regressor3  regressor4  target\n",
       "0          37          40          35          12     4.0\n",
       "1          12          78          41          17    29.0\n",
       "2          72          45          81          71    77.0\n",
       "3           9          87           2          91    33.0\n",
       "4          75          16          85           7    57.0"
      ]
     },
     "execution_count": 2,
     "metadata": {},
     "output_type": "execute_result"
    }
   ],
   "source": [
    "n = 200\n",
    "ensemble = pd.DataFrame()\n",
    "ensemble['regressor1'] = np.random.choice(100, n)\n",
    "ensemble['regressor2'] = np.random.choice(100, n)\n",
    "ensemble['regressor3'] = np.random.choice(100, n)\n",
    "ensemble['regressor4'] = np.random.choice(100, n)\n",
    "\n",
    "real_weigths = np.array([0.1, 0.1, 0.5, 0.3])\n",
    "\n",
    "X = ensemble.values\n",
    "y = np.round(X.dot(real_weigths) + 10 * np.random.randn(n))\n",
    "\n",
    "data = ensemble.copy()\n",
    "data['target'] = y\n",
    "\n",
    "data.head()"
   ]
  },
  {
   "cell_type": "code",
   "execution_count": 3,
   "metadata": {
    "collapsed": true
   },
   "outputs": [],
   "source": [
    "X_train, X_test, y_train, y_test = train_test_split(X, y, \n",
    "                                                    test_size=0.25, \n",
    "                                                    random_state=42)\n",
    "\n",
    "X_train_ensemble = pd.DataFrame(X_train, columns=ensemble.columns)\n",
    "X_test_ensemble = pd.DataFrame(X_test, columns=ensemble.columns)"
   ]
  },
  {
   "cell_type": "markdown",
   "metadata": {},
   "source": [
    "### Weight Update Rule\n",
    "\n",
    "After evaluationg the performance of regressor $r_{j}$ on $j^{th}$ instance,\n",
    "\n",
    "\\begin{align*} \n",
    "\\Delta^{i}_j &= \\frac{\\sum_{k \\neq j}|y^{i} - r^{i}_k|}{\\sum_{k}|y^{i} - r^{i}_k|} \\\\\n",
    "w^{i}_j  &=  w^{i-1}_j  + \\alpha \\Delta^{i}_j  \n",
    "\\end{align*}\n",
    "\n",
    "### Update\n",
    "\n",
    "winner regressor's weight gets extra delta points.\n",
    " - every looser regressor's weight loose points proportional their mistakes,\n",
    " - totally loosers loose delta points (equal to what winner gets)\n",
    "\n",
    "### Example\n",
    "\n",
    "|         | R1  | R2  | R3  | R4  | H  |\n",
    "|---------|-----|-----|-----|-----|----|\n",
    "| pred    | 30  | 30  | 70  | 30  | 60 |\n",
    "| error   | 30  | 30  | 10  | 30  |    |\n",
    "| +weight | 0   | 0   | 0.9 | 0   |    |\n",
    "\n",
    "\n",
    "after nine examples\n",
    " - previous w3 = 0.3\n",
    " - alpha = 1\n",
    " \n",
    "new_w3 = (9 *  0.3 + 1 * 0.9) = 0.36\n",
    "delta_w3 = 0.06\n",
    "\n",
    "\n",
    "|         | R1  | R2  | R3  | R4  | H  |\n",
    "|---------|-----|-----|-----|-----|----|\n",
    "| delta | -0.02 | -0.02 | 0.06  | -0.02 |    |\n",
    "\n",
    "\n"
   ]
  },
  {
   "cell_type": "code",
   "execution_count": 4,
   "metadata": {
    "collapsed": true
   },
   "outputs": [],
   "source": [
    "class combine_reg():\n",
    "    def __init__(self, ensemble, y):\n",
    "        self.ensemble = ensemble\n",
    "        self.y = y\n",
    "        self.n_instances = ensemble.shape[0]\n",
    "        self.n_regressors = ensemble.shape[1]\n",
    "        \n",
    "        self.weights = pd.DataFrame()\n",
    "        for c in self.ensemble.columns:\n",
    "            self.weights[c] = [1/self.n_regressors]\n",
    "        self.weights\n",
    "        \n",
    "    def fit(self, alpha = 0.1, k = 1, epochs = 5):\n",
    "        for e in range(epochs):\n",
    "            # at each epoch we shuffle our daata\n",
    "            reindex = self.ensemble.sample(self.n_instances, random_state=1).index\n",
    "            self.ensemble = self.ensemble.iloc[reindex].reset_index(drop=True)\n",
    "            self.y = self.y[reindex]\n",
    "            \n",
    "            for i in range(self.n_instances):\n",
    "                # for every instance we compute new weight\n",
    "                new_weight = self.update(alpha = alpha, i = i, k = k)\n",
    "                self.weights = self.weights.append(new_weight,ignore_index=True)\n",
    "    \n",
    "    def update(self, alpha, i, k):\n",
    "        \"\"\"\n",
    "        winner regressor's weight gets extra delta points.\n",
    "            every looser regressor's weight loose points proportional their mistakes,\n",
    "            totally loosers loose delta points (equal to what winner gets)\n",
    "        \"\"\"\n",
    "        instance_i = self.ensemble.iloc[i]\n",
    "        errors_i = np.power(abs(instance_i - self.y[i]),k) # [20, 20,  5, 55]\n",
    "        \n",
    "        winner = errors_i.idxmin()\n",
    "        others_error = errors_i.sum() - errors_i[winner]\n",
    "\n",
    "        winner_prev_weigt = self.weights.iloc[i][winner]\n",
    "        winner_weigth_i = others_error / errors_i.sum()\n",
    "\n",
    "        winner_new_weight = ((i+1) * winner_prev_weigt +  alpha * winner_weigth_i)/(i+1+alpha)\n",
    "        delta = winner_new_weight - winner_prev_weigt\n",
    "\n",
    "        new_weigths = self.weights.iloc[i] - delta * errors_i / others_error\n",
    "        new_weigths[winner] = winner_new_weight\n",
    "        return new_weigths        \n",
    "    \n",
    "    def predict(self, X_test_ensemble):\n",
    "        w_pred = self.getNormalizedWeights()\n",
    "        return X_test_ensemble.values.dot(w_pred)\n",
    "    \n",
    "    def getNormalizedWeights(self):\n",
    "        w = self.weights.iloc[-1]\n",
    "        w = w/w.sum()\n",
    "        return w.values"
   ]
  },
  {
   "cell_type": "markdown",
   "metadata": {},
   "source": [
    "## hypersearch"
   ]
  },
  {
   "cell_type": "code",
   "execution_count": 5,
   "metadata": {
    "collapsed": true
   },
   "outputs": [],
   "source": [
    "def hyper_search(alpha_range = np.linspace(0.01,5.01,20), \n",
    "                 k_range = np.linspace(0.0,2,10)):\n",
    "    \n",
    "    hyper = pd.DataFrame(columns = ['a', 'k', 'err'])\n",
    "    for a in alpha_range:\n",
    "        for k in k_range:\n",
    "            cr = combine_reg(ensemble = X_train_ensemble, y = y_train)\n",
    "            cr.fit(alpha = a, k = k, epochs = 1)\n",
    "\n",
    "            err = mean_squared_error(cr.predict(X_test_ensemble), y_test)\n",
    "            hyper = hyper.append({'a':a, 'k':k, 'err':err}, ignore_index=True)\n",
    "            \n",
    "    a_best, k_best, err = hyper.iloc[hyper['err'].idxmin()]\n",
    "\n",
    "    plt.plot(hyper[hyper['k'] == k_best]['a'], hyper[hyper['k'] == k_best]['err'])\n",
    "    plt.xlabel('a')\n",
    "    plt.show()\n",
    "            \n",
    "    return a_best, k_best, err, hyper"
   ]
  },
  {
   "cell_type": "code",
   "execution_count": 6,
   "metadata": {},
   "outputs": [
    {
     "data": {
      "image/png": "[encoded data removed]",
      "text/plain": [
       "<matplotlib.figure.Figure at 0x126bd84a8>"
      ]
     },
     "metadata": {},
     "output_type": "display_data"
    },
    {
     "data": {
      "text/plain": [
       "(1.3257894736842104, 0.2222222222222222, 109.05701621846279)"
      ]
     },
     "execution_count": 6,
     "metadata": {},
     "output_type": "execute_result"
    }
   ],
   "source": [
    "a_best, k_best, err, hyper = hyper_search()\n",
    "a_best, k_best, err"
   ]
  },
  {
   "cell_type": "code",
   "execution_count": 7,
   "metadata": {},
   "outputs": [
    {
     "name": "stdout",
     "output_type": "stream",
     "text": [
      "Error  109.05701621846279\n"
     ]
    },
    {
     "data": {
      "text/plain": [
       "array([0.20983653, 0.02343852, 0.41912885, 0.3475961 ])"
      ]
     },
     "execution_count": 7,
     "metadata": {},
     "output_type": "execute_result"
    }
   ],
   "source": [
    "cr_best = combine_reg(ensemble = X_train_ensemble, y = y_train)\n",
    "cr_best.fit(alpha = a_best, k = k_best, epochs = 1)\n",
    "\n",
    "err = mean_squared_error(cr_best.predict(X_test_ensemble), y_test)\n",
    "print('Error ', err)\n",
    "w = cr_best.getNormalizedWeights()\n",
    "w"
   ]
  },
  {
   "cell_type": "markdown",
   "metadata": {},
   "source": [
    "## Sklearn"
   ]
  },
  {
   "cell_type": "code",
   "execution_count": 8,
   "metadata": {},
   "outputs": [
    {
     "data": {
      "text/plain": [
       "LinearRegression(copy_X=True, fit_intercept=True, n_jobs=1, normalize=False)"
      ]
     },
     "execution_count": 8,
     "metadata": {},
     "output_type": "execute_result"
    }
   ],
   "source": [
    "from sklearn.linear_model import LinearRegression\n",
    "from sklearn.metrics import mean_squared_error, r2_score\n",
    "\n",
    "lr = LinearRegression()\n",
    "lr.fit(X_train_ensemble, y_train)"
   ]
  },
  {
   "cell_type": "code",
   "execution_count": 9,
   "metadata": {},
   "outputs": [
    {
     "data": {
      "image/png": "[encoded data removed]",
      "text/plain": [
       "<matplotlib.figure.Figure at 0x128c3b1d0>"
      ]
     },
     "metadata": {},
     "output_type": "display_data"
    }
   ],
   "source": [
    "y_pred = lr.predict(X_test_ensemble)\n",
    "#plt.plot(y, cr.predict(ensemble.values), 'go', label = 'Reward Everyone')\n",
    "plt.plot(y_test, cr_best.predict(X_test_ensemble), 'ro', label = 'CombineIt')\n",
    "plt.plot(y_test, y_pred, 'yo', label = 'Sklearn Linear Regression')\n",
    "plt.xlabel('True y');plt.ylabel('Predicted y');\n",
    "plt.legend()\n",
    "plt.show()"
   ]
  },
  {
   "cell_type": "code",
   "execution_count": 10,
   "metadata": {},
   "outputs": [
    {
     "data": {
      "text/plain": [
       "array([0.11341206, 0.09790537, 0.50337708, 0.29100413])"
      ]
     },
     "execution_count": 10,
     "metadata": {},
     "output_type": "execute_result"
    }
   ],
   "source": [
    "lr.coef_"
   ]
  },
  {
   "cell_type": "code",
   "execution_count": 11,
   "metadata": {},
   "outputs": [
    {
     "data": {
      "text/html": [
       "<div>\n",
       "<style scoped>\n",
       "    .dataframe tbody tr th:only-of-type {\n",
       "        vertical-align: middle;\n",
       "    }\n",
       "\n",
       "    .dataframe tbody tr th {\n",
       "        vertical-align: top;\n",
       "    }\n",
       "\n",
       "    .dataframe thead th {\n",
       "        text-align: right;\n",
       "    }\n",
       "</style>\n",
       "<table border=\"1\" class=\"dataframe\">\n",
       "  <thead>\n",
       "    <tr style=\"text-align: right;\">\n",
       "      <th></th>\n",
       "      <th>regressor1</th>\n",
       "      <th>regressor2</th>\n",
       "      <th>regressor3</th>\n",
       "      <th>regressor4</th>\n",
       "    </tr>\n",
       "  </thead>\n",
       "  <tbody>\n",
       "    <tr>\n",
       "      <th>145</th>\n",
       "      <td>0.215982</td>\n",
       "      <td>0.029484</td>\n",
       "      <td>0.405722</td>\n",
       "      <td>0.348812</td>\n",
       "    </tr>\n",
       "    <tr>\n",
       "      <th>146</th>\n",
       "      <td>0.214636</td>\n",
       "      <td>0.028520</td>\n",
       "      <td>0.409714</td>\n",
       "      <td>0.347131</td>\n",
       "    </tr>\n",
       "    <tr>\n",
       "      <th>147</th>\n",
       "      <td>0.213243</td>\n",
       "      <td>0.027326</td>\n",
       "      <td>0.413741</td>\n",
       "      <td>0.345689</td>\n",
       "    </tr>\n",
       "    <tr>\n",
       "      <th>148</th>\n",
       "      <td>0.212061</td>\n",
       "      <td>0.025993</td>\n",
       "      <td>0.412301</td>\n",
       "      <td>0.349644</td>\n",
       "    </tr>\n",
       "    <tr>\n",
       "      <th>149</th>\n",
       "      <td>0.210961</td>\n",
       "      <td>0.024730</td>\n",
       "      <td>0.415701</td>\n",
       "      <td>0.348608</td>\n",
       "    </tr>\n",
       "    <tr>\n",
       "      <th>150</th>\n",
       "      <td>0.209837</td>\n",
       "      <td>0.023439</td>\n",
       "      <td>0.419129</td>\n",
       "      <td>0.347596</td>\n",
       "    </tr>\n",
       "  </tbody>\n",
       "</table>\n",
       "</div>"
      ],
      "text/plain": [
       "     regressor1  regressor2  regressor3  regressor4\n",
       "145    0.215982    0.029484    0.405722    0.348812\n",
       "146    0.214636    0.028520    0.409714    0.347131\n",
       "147    0.213243    0.027326    0.413741    0.345689\n",
       "148    0.212061    0.025993    0.412301    0.349644\n",
       "149    0.210961    0.024730    0.415701    0.348608\n",
       "150    0.209837    0.023439    0.419129    0.347596"
      ]
     },
     "execution_count": 11,
     "metadata": {},
     "output_type": "execute_result"
    }
   ],
   "source": [
    "cr_best.weights.tail(6)"
   ]
  },
  {
   "cell_type": "code",
   "execution_count": 12,
   "metadata": {},
   "outputs": [
    {
     "data": {
      "text/plain": [
       "112.01156463874322"
      ]
     },
     "execution_count": 12,
     "metadata": {},
     "output_type": "execute_result"
    }
   ],
   "source": [
    "sk_err = mean_squared_error(lr.predict(X_test_ensemble), y_test)\n",
    "sk_err"
   ]
  },
  {
   "cell_type": "markdown",
   "metadata": {},
   "source": [
    "# SGD Incremental Learning\n",
    "\n",
    "> Real data, apart from being messy, can also be quite big in data science — sometimes so big that it can’t fit in memory,"
   ]
  },
  {
   "cell_type": "code",
   "execution_count": 13,
   "metadata": {},
   "outputs": [
    {
     "name": "stderr",
     "output_type": "stream",
     "text": [
      "/Library/Frameworks/Python.framework/Versions/3.6/lib/python3.6/site-packages/sklearn/utils/validation.py:444: DataConversionWarning: Data with input dtype int64 was converted to float64 by StandardScaler.\n",
      "  warnings.warn(msg, DataConversionWarning)\n",
      "/Library/Frameworks/Python.framework/Versions/3.6/lib/python3.6/site-packages/sklearn/linear_model/stochastic_gradient.py:84: FutureWarning: max_iter and tol parameters have been added in <class 'sklearn.linear_model.stochastic_gradient.SGDRegressor'> in 0.19. If both are left unset, they default to max_iter=5 and tol=None. If tol is not None, max_iter defaults to max_iter=1000. From 0.21, default max_iter will be 1000, and default tol will be 1e-3.\n",
      "  \"and default tol will be 1e-3.\" % type(self), FutureWarning)\n",
      "/Library/Frameworks/Python.framework/Versions/3.6/lib/python3.6/site-packages/sklearn/utils/validation.py:547: DataConversionWarning: A column-vector y was passed when a 1d array was expected. Please change the shape of y to (n_samples, ), for example using ravel().\n",
      "  y = column_or_1d(y, warn=True)\n"
     ]
    }
   ],
   "source": [
    "from sklearn.preprocessing import StandardScaler\n",
    "\n",
    "scaler = StandardScaler()\n",
    "scaler.fit(X_train)  # Don't cheat - fit only on training data\n",
    "X_train = scaler.transform(X_train)\n",
    "X_test = scaler.transform(X_test)  # apply same transformation to test data\n",
    "\n",
    "from sklearn.linear_model import SGDRegressor\n",
    "SGD = SGDRegressor()\n",
    "\n",
    "improvements = list()\n",
    "chunksize = 10\n",
    "\n",
    "for e in range(100):\n",
    "    for chunk in [i*chunksize for i in range(X_train.shape[0]//chunksize)]:\n",
    "        X_chunk = X_train[chunk: chunk + chunksize]\n",
    "        y_chunk = y_train[chunk: chunk + chunksize].reshape(-1,1)\n",
    "\n",
    "        SGD.partial_fit(X_chunk, y_chunk)\n",
    "        improvements.append(mean_squared_error(y_test, SGD.predict(X_test)))"
   ]
  },
  {
   "cell_type": "code",
   "execution_count": 14,
   "metadata": {},
   "outputs": [
    {
     "data": {
      "image/png": "[encoded data removed]",
      "text/plain": [
       "<matplotlib.figure.Figure at 0x128c98630>"
      ]
     },
     "metadata": {},
     "output_type": "display_data"
    }
   ],
   "source": [
    "plt.plot(improvements,'--')\n",
    "plt.show()"
   ]
  },
  {
   "cell_type": "code",
   "execution_count": 15,
   "metadata": {},
   "outputs": [
    {
     "data": {
      "text/plain": [
       "[111.75819679270306,\n",
       " 111.88618038388054,\n",
       " 111.90239467514826,\n",
       " 111.71305908768699,\n",
       " 111.83937826808264,\n",
       " 112.36642311969769,\n",
       " 112.37316645880357,\n",
       " 112.383681921834,\n",
       " 112.16527696407533,\n",
       " 112.3366471764451]"
      ]
     },
     "execution_count": 15,
     "metadata": {},
     "output_type": "execute_result"
    }
   ],
   "source": [
    "improvements[-10:]"
   ]
  },
  {
   "cell_type": "code",
   "execution_count": 16,
   "metadata": {},
   "outputs": [
    {
     "data": {
      "text/plain": [
       "array([0.11576928, 0.09423093, 0.50043442, 0.28956536])"
      ]
     },
     "execution_count": 16,
     "metadata": {},
     "output_type": "execute_result"
    }
   ],
   "source": [
    "SGD.coef_/SGD.coef_.sum()"
   ]
  },
  {
   "cell_type": "code",
   "execution_count": null,
   "metadata": {
    "collapsed": true
   },
   "outputs": [],
   "source": []
  }
 ],
 "metadata": {
  "kernelspec": {
   "display_name": "Python 3",
   "language": "python",
   "name": "python3"
  },
  "language_info": {
   "codemirror_mode": {
    "name": "ipython",
    "version": 3
   },
   "file_extension": ".py",
   "mimetype": "text/x-python",
   "name": "python",
   "nbconvert_exporter": "python",
   "pygments_lexer": "ipython3",
   "version": "3.6.1"
  }
 },
 "nbformat": 4,
 "nbformat_minor": 2
}
