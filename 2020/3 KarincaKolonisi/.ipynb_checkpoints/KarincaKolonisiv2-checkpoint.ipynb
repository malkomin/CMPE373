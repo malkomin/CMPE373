{
 "cells": [
  {
   "cell_type": "code",
   "execution_count": 1,
   "metadata": {
    "collapsed": true
   },
   "outputs": [],
   "source": [
    "import numpy as np\n",
    "import pandas as pd\n",
    "import matplotlib.pyplot as plt\n",
    "import seaborn as sns\n",
    "sns.set()"
   ]
  },
  {
   "cell_type": "code",
   "execution_count": 2,
   "metadata": {},
   "outputs": [],
   "source": [
    "def create_environment(cities = ['A','B','C','D','E','F','G'],  path = ['A', 'F', 'D', 'E'], eps = 0.0001):\n",
    "    N =len(cities)\n",
    "    def distance_matrix(cities, path):\n",
    "        env = pd.DataFrame(data=np.ones((N,N)) * 10, columns=cities, index = cities)\n",
    "        \n",
    "        ## -1: disallowed passage\n",
    "        for i in range(N):\n",
    "            env.loc[cities[i], cities[i]] = -1\n",
    "\n",
    "        for i in range(len(path)-1):\n",
    "            env.loc[path[i], path[i+1]] = 1\n",
    "            env.loc[path[i+1], path[i]] = 1\n",
    "\n",
    "        return env\n",
    "\n",
    "    def pheremon_matrix(cities, eps = eps):\n",
    "        N =len(cities)\n",
    "        return pd.DataFrame(data=np.ones((N,N)) * eps, columns=cities, index = cities)\n",
    "\n",
    "    return distance_matrix(cities, path), pheremon_matrix(cities)"
   ]
  },
  {
   "cell_type": "code",
   "execution_count": 3,
   "metadata": {},
   "outputs": [],
   "source": [
    "class ant():\n",
    "    def __init__(self, env, phe, \n",
    "                 start = 'A', end = 'E',\n",
    "                alpha = 1, beta = 1):\n",
    "        \n",
    "        self.env, self.phe  = env, phe\n",
    "        self.alpha, self.beta = alpha, beta\n",
    "        self.cities = list(self.env.columns)\n",
    "        self.current_city = start\n",
    "        self.target_city = end\n",
    "        \n",
    "        self.route = [self.current_city]\n",
    "        \n",
    "        self.possible_cities = self.cities.copy()\n",
    "        self.possible_cities.remove(self.current_city)\n",
    "    \n",
    "    def move(self):\n",
    "        if self.current_city == self.target_city:\n",
    "            return\n",
    "        \n",
    "        distances = env.loc[self.current_city , env.loc[self.current_city ] > 0][self.possible_cities]\n",
    "        pheremons = phe.loc[self.current_city , env.loc[self.current_city ] > 0][self.possible_cities]\n",
    "        \n",
    "        preferences = pheremons**self.alpha/distances**self.beta\n",
    "        probabilities = preferences/preferences.sum()\n",
    "        #print(probabilities)\n",
    "        \n",
    "        self.current_city = np.random.choice(a = probabilities.index, \n",
    "                                             size=1, \n",
    "                                             p = probabilities.values)[0]\n",
    "        \n",
    "        self.route.append(self.current_city) \n",
    "        self.possible_cities.remove(self.current_city)\n",
    "        \n",
    "        #self.deposit()\n",
    "\n",
    "    def deposit(self, delta = 1):\n",
    "        i, j = self.route[-2:]\n",
    "        self.phe.loc[i, j] +=  delta/self.env.loc[i, j]\n",
    "        self.phe.loc[j, i] +=  delta/self.env.loc[j, i]\n",
    "        \n",
    "    def cost(self):\n",
    "        result = 0\n",
    "        for i in range(len(self.route)-1):\n",
    "            result += self.env.loc[self.route[i], self.route[i+1]]\n",
    "        return result"
   ]
  },
  {
   "cell_type": "code",
   "execution_count": 4,
   "metadata": {},
   "outputs": [
    {
     "ename": "NameError",
     "evalue": "name 'eps' is not defined",
     "output_type": "error",
     "traceback": [
      "\u001b[0;31m---------------------------------------------------------------------------\u001b[0m",
      "\u001b[0;31mNameError\u001b[0m                                 Traceback (most recent call last)",
      "\u001b[0;32m<ipython-input-4-ad784e21afa3>\u001b[0m in \u001b[0;36m<module>\u001b[0;34m()\u001b[0m\n\u001b[1;32m      1\u001b[0m \u001b[0mcities\u001b[0m \u001b[0;34m=\u001b[0m \u001b[0;34m[\u001b[0m\u001b[0;34m'A'\u001b[0m\u001b[0;34m,\u001b[0m\u001b[0;34m'B'\u001b[0m\u001b[0;34m,\u001b[0m\u001b[0;34m'C'\u001b[0m\u001b[0;34m,\u001b[0m\u001b[0;34m'D'\u001b[0m\u001b[0;34m,\u001b[0m\u001b[0;34m'E'\u001b[0m\u001b[0;34m,\u001b[0m\u001b[0;34m'F'\u001b[0m\u001b[0;34m,\u001b[0m\u001b[0;34m'G'\u001b[0m\u001b[0;34m]\u001b[0m\u001b[0;34m\u001b[0m\u001b[0m\n\u001b[1;32m      2\u001b[0m \u001b[0mtrue_path\u001b[0m \u001b[0;34m=\u001b[0m \u001b[0;34m[\u001b[0m\u001b[0;34m'A'\u001b[0m\u001b[0;34m,\u001b[0m \u001b[0;34m'F'\u001b[0m\u001b[0;34m,\u001b[0m \u001b[0;34m'D'\u001b[0m\u001b[0;34m,\u001b[0m \u001b[0;34m'E'\u001b[0m\u001b[0;34m]\u001b[0m\u001b[0;34m\u001b[0m\u001b[0m\n\u001b[0;32m----> 3\u001b[0;31m \u001b[0menv\u001b[0m\u001b[0;34m,\u001b[0m \u001b[0mphe\u001b[0m \u001b[0;34m=\u001b[0m \u001b[0mcreate_environment\u001b[0m\u001b[0;34m(\u001b[0m\u001b[0;34m)\u001b[0m\u001b[0;34m\u001b[0m\u001b[0m\n\u001b[0m\u001b[1;32m      4\u001b[0m \u001b[0;34m\u001b[0m\u001b[0m\n\u001b[1;32m      5\u001b[0m \u001b[0meps\u001b[0m \u001b[0;34m=\u001b[0m \u001b[0;36m0.0001\u001b[0m\u001b[0;34m\u001b[0m\u001b[0m\n",
      "\u001b[0;32m<ipython-input-2-83a09230f7c7>\u001b[0m in \u001b[0;36mcreate_environment\u001b[0;34m(cities, path)\u001b[0m\n\u001b[1;32m     14\u001b[0m         \u001b[0;32mreturn\u001b[0m \u001b[0menv\u001b[0m\u001b[0;34m\u001b[0m\u001b[0m\n\u001b[1;32m     15\u001b[0m \u001b[0;34m\u001b[0m\u001b[0m\n\u001b[0;32m---> 16\u001b[0;31m     \u001b[0;32mdef\u001b[0m \u001b[0mpheremon_matrix\u001b[0m\u001b[0;34m(\u001b[0m\u001b[0mcities\u001b[0m\u001b[0;34m,\u001b[0m \u001b[0meps\u001b[0m \u001b[0;34m=\u001b[0m \u001b[0meps\u001b[0m\u001b[0;34m)\u001b[0m\u001b[0;34m:\u001b[0m\u001b[0;34m\u001b[0m\u001b[0m\n\u001b[0m\u001b[1;32m     17\u001b[0m         \u001b[0mN\u001b[0m \u001b[0;34m=\u001b[0m\u001b[0mlen\u001b[0m\u001b[0;34m(\u001b[0m\u001b[0mcities\u001b[0m\u001b[0;34m)\u001b[0m\u001b[0;34m\u001b[0m\u001b[0m\n\u001b[1;32m     18\u001b[0m         \u001b[0;32mreturn\u001b[0m \u001b[0mpd\u001b[0m\u001b[0;34m.\u001b[0m\u001b[0mDataFrame\u001b[0m\u001b[0;34m(\u001b[0m\u001b[0mdata\u001b[0m\u001b[0;34m=\u001b[0m\u001b[0mnp\u001b[0m\u001b[0;34m.\u001b[0m\u001b[0mones\u001b[0m\u001b[0;34m(\u001b[0m\u001b[0;34m(\u001b[0m\u001b[0mN\u001b[0m\u001b[0;34m,\u001b[0m\u001b[0mN\u001b[0m\u001b[0;34m)\u001b[0m\u001b[0;34m)\u001b[0m \u001b[0;34m*\u001b[0m \u001b[0meps\u001b[0m\u001b[0;34m,\u001b[0m \u001b[0mcolumns\u001b[0m\u001b[0;34m=\u001b[0m\u001b[0mcities\u001b[0m\u001b[0;34m,\u001b[0m \u001b[0mindex\u001b[0m \u001b[0;34m=\u001b[0m \u001b[0mcities\u001b[0m\u001b[0;34m)\u001b[0m\u001b[0;34m\u001b[0m\u001b[0m\n",
      "\u001b[0;31mNameError\u001b[0m: name 'eps' is not defined"
     ]
    }
   ],
   "source": [
    "cities = ['A','B','C','D','E','F','G']\n",
    "true_path = ['A', 'F', 'D', 'E']\n",
    "env, phe = create_environment()\n",
    "\n",
    "eps = 0.0001\n",
    "K = 100\n",
    "time = 10\n",
    "true_path_ratio = []\n",
    "\n",
    "# in each time step\n",
    "for t in range(time):\n",
    "    # k ants exist in the colony\n",
    "    colony = [ant(env = env, phe =phe) for k in range(K)]\n",
    "    \n",
    "    # each ant make N moves \n",
    "    for i in range(len(cities)):\n",
    "        # distributed and paralel moves of K ants\n",
    "        for k in range(K):\n",
    "            colony[k].move()\n",
    "        # after independent moves, ants deposit pheremon\n",
    "        for k in range(K):\n",
    "            colony[k].deposit()\n",
    "            \n",
    "    true_path_ratio.append(np.mean([a.route == ['A', 'F', 'D', 'E'] for a in colony]))"
   ]
  },
  {
   "cell_type": "code",
   "execution_count": null,
   "metadata": {},
   "outputs": [],
   "source": [
    "phe"
   ]
  },
  {
   "cell_type": "code",
   "execution_count": null,
   "metadata": {},
   "outputs": [],
   "source": [
    "true_path_ratio"
   ]
  },
  {
   "cell_type": "code",
   "execution_count": null,
   "metadata": {},
   "outputs": [],
   "source": [
    "[(a.cost(), a.route) for a in colony]"
   ]
  },
  {
   "cell_type": "code",
   "execution_count": null,
   "metadata": {},
   "outputs": [],
   "source": []
  },
  {
   "cell_type": "code",
   "execution_count": null,
   "metadata": {
    "collapsed": true
   },
   "outputs": [],
   "source": []
  }
 ],
 "metadata": {
  "kernelspec": {
   "display_name": "Python 3",
   "language": "python",
   "name": "python3"
  },
  "language_info": {
   "codemirror_mode": {
    "name": "ipython",
    "version": 3
   },
   "file_extension": ".py",
   "mimetype": "text/x-python",
   "name": "python",
   "nbconvert_exporter": "python",
   "pygments_lexer": "ipython3",
   "version": "3.6.1"
  }
 },
 "nbformat": 4,
 "nbformat_minor": 2
}
